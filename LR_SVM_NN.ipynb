{
 "cells": [
  {
   "cell_type": "code",
   "execution_count": 1,
   "metadata": {},
   "outputs": [
    {
     "name": "stdout",
     "output_type": "stream",
     "text": [
      "Logistic Regression Classification Report:\n",
      "               precision    recall  f1-score   support\n",
      "\n",
      "           0       1.00      1.00      1.00        19\n",
      "           1       1.00      1.00      1.00        13\n",
      "           2       1.00      1.00      1.00        13\n",
      "\n",
      "    accuracy                           1.00        45\n",
      "   macro avg       1.00      1.00      1.00        45\n",
      "weighted avg       1.00      1.00      1.00        45\n",
      "\n"
     ]
    },
    {
     "data": {
      "image/png": "[encoded data removed]",
      "text/plain": [
       "<Figure size 432x288 with 2 Axes>"
      ]
     },
     "metadata": {
      "needs_background": "light"
     },
     "output_type": "display_data"
    },
    {
     "name": "stdout",
     "output_type": "stream",
     "text": [
      "SVM Classification Report:\n",
      "               precision    recall  f1-score   support\n",
      "\n",
      "           0       1.00      1.00      1.00        19\n",
      "           1       1.00      0.92      0.96        13\n",
      "           2       0.93      1.00      0.96        13\n",
      "\n",
      "    accuracy                           0.98        45\n",
      "   macro avg       0.98      0.97      0.97        45\n",
      "weighted avg       0.98      0.98      0.98        45\n",
      "\n"
     ]
    },
    {
     "data": {
      "image/png": "[encoded data removed]",
      "text/plain": [
       "<Figure size 432x288 with 2 Axes>"
      ]
     },
     "metadata": {
      "needs_background": "light"
     },
     "output_type": "display_data"
    },
    {
     "name": "stdout",
     "output_type": "stream",
     "text": [
      "Epoch 1/10\n",
      "11/11 [==============================] - 1s 2ms/step - loss: 1.0482 - accuracy: 0.5429\n",
      "Epoch 2/10\n",
      "11/11 [==============================] - 0s 2ms/step - loss: 0.8020 - accuracy: 0.7810\n",
      "Epoch 3/10\n",
      "11/11 [==============================] - 0s 2ms/step - loss: 0.6332 - accuracy: 0.8190\n",
      "Epoch 4/10\n",
      "11/11 [==============================] - 0s 2ms/step - loss: 0.5193 - accuracy: 0.8286\n",
      "Epoch 5/10\n",
      "11/11 [==============================] - 0s 2ms/step - loss: 0.4486 - accuracy: 0.8190\n",
      "Epoch 6/10\n",
      "11/11 [==============================] - 0s 2ms/step - loss: 0.3960 - accuracy: 0.8286\n",
      "Epoch 7/10\n",
      "11/11 [==============================] - 0s 2ms/step - loss: 0.3592 - accuracy: 0.8571\n",
      "Epoch 8/10\n",
      "11/11 [==============================] - 0s 2ms/step - loss: 0.3304 - accuracy: 0.8571\n",
      "Epoch 9/10\n",
      "11/11 [==============================] - 0s 2ms/step - loss: 0.3066 - accuracy: 0.8667\n",
      "Epoch 10/10\n",
      "11/11 [==============================] - 0s 2ms/step - loss: 0.2844 - accuracy: 0.8857\n",
      "Neural Network Classification Report:\n",
      "               precision    recall  f1-score   support\n",
      "\n",
      "           0       1.00      1.00      1.00        19\n",
      "           1       1.00      0.62      0.76        13\n",
      "           2       0.72      1.00      0.84        13\n",
      "\n",
      "    accuracy                           0.89        45\n",
      "   macro avg       0.91      0.87      0.87        45\n",
      "weighted avg       0.92      0.89      0.88        45\n",
      "\n"
     ]
    },
    {
     "data": {
      "image/png": "[encoded data removed]",
      "text/plain": [
       "<Figure size 432x288 with 2 Axes>"
      ]
     },
     "metadata": {
      "needs_background": "light"
     },
     "output_type": "display_data"
    }
   ],
   "source": [
    "import numpy as np\n",
    "import pandas as pd\n",
    "from sklearn import datasets\n",
    "from sklearn.model_selection import train_test_split\n",
    "from sklearn.preprocessing import StandardScaler\n",
    "from sklearn.metrics import confusion_matrix, classification_report\n",
    "from sklearn.linear_model import LogisticRegression\n",
    "from sklearn.svm import SVC\n",
    "from tensorflow.keras.models import Sequential\n",
    "from tensorflow.keras.layers import Dense\n",
    "import matplotlib.pyplot as plt\n",
    "import seaborn as sns\n",
    "\n",
    "# Load the iris dataset\n",
    "iris = datasets.load_iris()\n",
    "X = iris.data\n",
    "y = iris.target\n",
    "\n",
    "# Split the data into train and test sets\n",
    "X_train, X_test, y_train, y_test = train_test_split(X, y, test_size=0.3, random_state=42)\n",
    "\n",
    "# Standardize the dataset\n",
    "scaler = StandardScaler()\n",
    "X_train = scaler.fit_transform(X_train)\n",
    "X_test = scaler.transform(X_test)\n",
    "\n",
    "# Logistic Regression Model\n",
    "log_reg = LogisticRegression()\n",
    "log_reg.fit(X_train, y_train)\n",
    "y_pred_log_reg = log_reg.predict(X_test)\n",
    "\n",
    "# Confusion Matrix and Classification Report for Logistic Regression\n",
    "print(\"Logistic Regression Classification Report:\\n\", classification_report(y_test, y_pred_log_reg))\n",
    "conf_matrix_log_reg = confusion_matrix(y_test, y_pred_log_reg)\n",
    "sns.heatmap(conf_matrix_log_reg, annot=True, fmt='d', cmap='Blues')\n",
    "plt.title(\"Logistic Regression Confusion Matrix\")\n",
    "plt.show()\n",
    "\n",
    "# Support Vector Machine Model\n",
    "svm_model = SVC(kernel='linear')\n",
    "svm_model.fit(X_train, y_train)\n",
    "y_pred_svm = svm_model.predict(X_test)\n",
    "\n",
    "# Confusion Matrix and Classification Report for SVM\n",
    "print(\"SVM Classification Report:\\n\", classification_report(y_test, y_pred_svm))\n",
    "conf_matrix_svm = confusion_matrix(y_test, y_pred_svm)\n",
    "sns.heatmap(conf_matrix_svm, annot=True, fmt='d', cmap='Blues')\n",
    "plt.title(\"SVM Confusion Matrix\")\n",
    "plt.show()\n",
    "\n",
    "# Simple Neural Network Model\n",
    "nn_model = Sequential()\n",
    "nn_model.add(Dense(64, input_dim=X_train.shape[1], activation='relu'))\n",
    "nn_model.add(Dense(64, activation='relu'))\n",
    "nn_model.add(Dense(3, activation='softmax'))\n",
    "\n",
    "nn_model.compile(loss='sparse_categorical_crossentropy', optimizer='adam', metrics=['accuracy'])\n",
    "nn_model.fit(X_train, y_train, epochs=10, batch_size=10)\n",
    "\n",
    "# Predict with Neural Network\n",
    "y_pred_nn = np.argmax(nn_model.predict(X_test), axis=1)\n",
    "\n",
    "# Confusion Matrix and Classification Report for Neural Network\n",
    "print(\"Neural Network Classification Report:\\n\", classification_report(y_test, y_pred_nn))\n",
    "conf_matrix_nn = confusion_matrix(y_test, y_pred_nn)\n",
    "sns.heatmap(conf_matrix_nn, annot=True, fmt='d', cmap='Blues')\n",
    "plt.title(\"Neural Network Confusion Matrix\")\n",
    "plt.show()\n"
   ]
  },
  {
   "cell_type": "code",
   "execution_count": 2,
   "metadata": {},
   "outputs": [
    {
     "name": "stdout",
     "output_type": "stream",
     "text": [
      "Logistic Regression Classification Report:\n",
      "               precision    recall  f1-score   support\n",
      "\n",
      "           0       1.00      1.00      1.00        19\n",
      "           1       1.00      0.95      0.98        21\n",
      "           2       0.93      1.00      0.97        14\n",
      "\n",
      "    accuracy                           0.98        54\n",
      "   macro avg       0.98      0.98      0.98        54\n",
      "weighted avg       0.98      0.98      0.98        54\n",
      "\n"
     ]
    },
    {
     "data": {
      "image/png": "[encoded data removed]",
      "text/plain": [
       "<Figure size 432x288 with 2 Axes>"
      ]
     },
     "metadata": {
      "needs_background": "light"
     },
     "output_type": "display_data"
    },
    {
     "name": "stdout",
     "output_type": "stream",
     "text": [
      "SVM Classification Report:\n",
      "               precision    recall  f1-score   support\n",
      "\n",
      "           0       1.00      1.00      1.00        19\n",
      "           1       1.00      0.95      0.98        21\n",
      "           2       0.93      1.00      0.97        14\n",
      "\n",
      "    accuracy                           0.98        54\n",
      "   macro avg       0.98      0.98      0.98        54\n",
      "weighted avg       0.98      0.98      0.98        54\n",
      "\n"
     ]
    },
    {
     "data": {
      "image/png": "[encoded data removed]",
      "text/plain": [
       "<Figure size 432x288 with 2 Axes>"
      ]
     },
     "metadata": {
      "needs_background": "light"
     },
     "output_type": "display_data"
    },
    {
     "name": "stdout",
     "output_type": "stream",
     "text": [
      "Epoch 1/10\n",
      "13/13 [==============================] - 1s 2ms/step - loss: 1.1222 - accuracy: 0.4032\n",
      "Epoch 2/10\n",
      "13/13 [==============================] - 0s 5ms/step - loss: 0.7170 - accuracy: 0.8145\n",
      "Epoch 3/10\n",
      "13/13 [==============================] - 0s 3ms/step - loss: 0.4696 - accuracy: 0.9274\n",
      "Epoch 4/10\n",
      "13/13 [==============================] - 0s 2ms/step - loss: 0.3115 - accuracy: 0.9435\n",
      "Epoch 5/10\n",
      "13/13 [==============================] - 0s 2ms/step - loss: 0.2144 - accuracy: 0.9758\n",
      "Epoch 6/10\n",
      "13/13 [==============================] - 0s 2ms/step - loss: 0.1524 - accuracy: 0.9839\n",
      "Epoch 7/10\n",
      "13/13 [==============================] - 0s 2ms/step - loss: 0.1154 - accuracy: 0.9839\n",
      "Epoch 8/10\n",
      "13/13 [==============================] - 0s 2ms/step - loss: 0.0886 - accuracy: 0.9919\n",
      "Epoch 9/10\n",
      "13/13 [==============================] - 0s 2ms/step - loss: 0.0714 - accuracy: 1.0000\n",
      "Epoch 10/10\n",
      "13/13 [==============================] - 0s 2ms/step - loss: 0.0578 - accuracy: 1.0000\n",
      "Neural Network Classification Report:\n",
      "               precision    recall  f1-score   support\n",
      "\n",
      "           0       1.00      1.00      1.00        19\n",
      "           1       1.00      1.00      1.00        21\n",
      "           2       1.00      1.00      1.00        14\n",
      "\n",
      "    accuracy                           1.00        54\n",
      "   macro avg       1.00      1.00      1.00        54\n",
      "weighted avg       1.00      1.00      1.00        54\n",
      "\n"
     ]
    },
    {
     "data": {
      "image/png": "[encoded data removed]",
      "text/plain": [
       "<Figure size 432x288 with 2 Axes>"
      ]
     },
     "metadata": {
      "needs_background": "light"
     },
     "output_type": "display_data"
    }
   ],
   "source": [
    "import numpy as np\n",
    "import pandas as pd\n",
    "from sklearn import datasets\n",
    "from sklearn.model_selection import train_test_split\n",
    "from sklearn.preprocessing import StandardScaler\n",
    "from sklearn.metrics import confusion_matrix, classification_report\n",
    "from sklearn.linear_model import LogisticRegression\n",
    "from sklearn.svm import SVC\n",
    "from tensorflow.keras.models import Sequential\n",
    "from tensorflow.keras.layers import Dense\n",
    "import matplotlib.pyplot as plt\n",
    "import seaborn as sns\n",
    "\n",
    "# Load the wine dataset\n",
    "wine = datasets.load_wine()\n",
    "X = wine.data\n",
    "y = wine.target\n",
    "\n",
    "# Split the data into train and test sets\n",
    "X_train, X_test, y_train, y_test = train_test_split(X, y, test_size=0.3, random_state=42)\n",
    "\n",
    "# Standardize the dataset\n",
    "scaler = StandardScaler()\n",
    "X_train = scaler.fit_transform(X_train)\n",
    "X_test = scaler.transform(X_test)\n",
    "\n",
    "# Logistic Regression Model\n",
    "log_reg = LogisticRegression(max_iter=10000)\n",
    "log_reg.fit(X_train, y_train)\n",
    "y_pred_log_reg = log_reg.predict(X_test)\n",
    "\n",
    "# Confusion Matrix and Classification Report for Logistic Regression\n",
    "print(\"Logistic Regression Classification Report:\\n\", classification_report(y_test, y_pred_log_reg))\n",
    "conf_matrix_log_reg = confusion_matrix(y_test, y_pred_log_reg)\n",
    "sns.heatmap(conf_matrix_log_reg, annot=True, fmt='d', cmap='Blues')\n",
    "plt.title(\"Logistic Regression Confusion Matrix\")\n",
    "plt.show()\n",
    "\n",
    "# Support Vector Machine Model\n",
    "svm_model = SVC(kernel='linear')\n",
    "svm_model.fit(X_train, y_train)\n",
    "y_pred_svm = svm_model.predict(X_test)\n",
    "\n",
    "# Confusion Matrix and Classification Report for SVM\n",
    "print(\"SVM Classification Report:\\n\", classification_report(y_test, y_pred_svm))\n",
    "conf_matrix_svm = confusion_matrix(y_test, y_pred_svm)\n",
    "sns.heatmap(conf_matrix_svm, annot=True, fmt='d', cmap='Blues')\n",
    "plt.title(\"SVM Confusion Matrix\")\n",
    "plt.show()\n",
    "\n",
    "# Simple Neural Network Model\n",
    "nn_model = Sequential()\n",
    "nn_model.add(Dense(64, input_dim=X_train.shape[1], activation='relu'))\n",
    "nn_model.add(Dense(64, activation='relu'))\n",
    "nn_model.add(Dense(3, activation='softmax'))\n",
    "\n",
    "nn_model.compile(loss='sparse_categorical_crossentropy', optimizer='adam', metrics=['accuracy'])\n",
    "nn_model.fit(X_train, y_train, epochs=10, batch_size=10)\n",
    "\n",
    "# Predict with Neural Network\n",
    "y_pred_nn = np.argmax(nn_model.predict(X_test), axis=1)\n",
    "\n",
    "# Confusion Matrix and Classification Report for Neural Network\n",
    "print(\"Neural Network Classification Report:\\n\", classification_report(y_test, y_pred_nn))\n",
    "conf_matrix_nn = confusion_matrix(y_test, y_pred_nn)\n",
    "sns.heatmap(conf_matrix_nn, annot=True, fmt='d', cmap='Blues')\n",
    "plt.title(\"Neural Network Confusion Matrix\")\n",
    "plt.show()\n"
   ]
  },
  {
   "cell_type": "code",
   "execution_count": 3,
   "metadata": {},
   "outputs": [
    {
     "name": "stdout",
     "output_type": "stream",
     "text": [
      "Logistic Regression Classification Report:\n",
      "               precision    recall  f1-score   support\n",
      "\n",
      "           0       0.97      0.98      0.98        63\n",
      "           1       0.99      0.98      0.99       108\n",
      "\n",
      "    accuracy                           0.98       171\n",
      "   macro avg       0.98      0.98      0.98       171\n",
      "weighted avg       0.98      0.98      0.98       171\n",
      "\n"
     ]
    },
    {
     "data": {
      "image/png": "[encoded data removed]",
      "text/plain": [
       "<Figure size 432x288 with 2 Axes>"
      ]
     },
     "metadata": {
      "needs_background": "light"
     },
     "output_type": "display_data"
    },
    {
     "name": "stdout",
     "output_type": "stream",
     "text": [
      "SVM Classification Report:\n",
      "               precision    recall  f1-score   support\n",
      "\n",
      "           0       0.97      0.97      0.97        63\n",
      "           1       0.98      0.98      0.98       108\n",
      "\n",
      "    accuracy                           0.98       171\n",
      "   macro avg       0.97      0.97      0.97       171\n",
      "weighted avg       0.98      0.98      0.98       171\n",
      "\n"
     ]
    },
    {
     "data": {
      "image/png": "[encoded data removed]",
      "text/plain": [
       "<Figure size 432x288 with 2 Axes>"
      ]
     },
     "metadata": {
      "needs_background": "light"
     },
     "output_type": "display_data"
    },
    {
     "name": "stdout",
     "output_type": "stream",
     "text": [
      "Epoch 1/10\n",
      "40/40 [==============================] - 1s 2ms/step - loss: 0.3661 - accuracy: 0.8543\n",
      "Epoch 2/10\n",
      "40/40 [==============================] - 0s 2ms/step - loss: 0.1503 - accuracy: 0.9497\n",
      "Epoch 3/10\n",
      "40/40 [==============================] - 0s 2ms/step - loss: 0.1036 - accuracy: 0.9623\n",
      "Epoch 4/10\n",
      "40/40 [==============================] - 0s 2ms/step - loss: 0.0808 - accuracy: 0.9698\n",
      "Epoch 5/10\n",
      "40/40 [==============================] - 0s 2ms/step - loss: 0.0651 - accuracy: 0.9874\n",
      "Epoch 6/10\n",
      "40/40 [==============================] - 0s 2ms/step - loss: 0.0539 - accuracy: 0.9899\n",
      "Epoch 7/10\n",
      "40/40 [==============================] - 0s 2ms/step - loss: 0.0452 - accuracy: 0.9925\n",
      "Epoch 8/10\n",
      "40/40 [==============================] - 0s 2ms/step - loss: 0.0387 - accuracy: 0.9925\n",
      "Epoch 9/10\n",
      "40/40 [==============================] - 0s 2ms/step - loss: 0.0349 - accuracy: 0.9899\n",
      "Epoch 10/10\n",
      "40/40 [==============================] - 0s 4ms/step - loss: 0.0291 - accuracy: 0.9925\n",
      "Neural Network Classification Report:\n",
      "               precision    recall  f1-score   support\n",
      "\n",
      "           0       0.97      0.98      0.98        63\n",
      "           1       0.99      0.98      0.99       108\n",
      "\n",
      "    accuracy                           0.98       171\n",
      "   macro avg       0.98      0.98      0.98       171\n",
      "weighted avg       0.98      0.98      0.98       171\n",
      "\n"
     ]
    },
    {
     "data": {
      "image/png": "[encoded data removed]",
      "text/plain": [
       "<Figure size 432x288 with 2 Axes>"
      ]
     },
     "metadata": {
      "needs_background": "light"
     },
     "output_type": "display_data"
    }
   ],
   "source": [
    "import numpy as np\n",
    "import pandas as pd\n",
    "from sklearn import datasets\n",
    "from sklearn.model_selection import train_test_split\n",
    "from sklearn.preprocessing import StandardScaler\n",
    "from sklearn.metrics import confusion_matrix, classification_report\n",
    "from sklearn.linear_model import LogisticRegression\n",
    "from sklearn.svm import SVC\n",
    "from tensorflow.keras.models import Sequential\n",
    "from tensorflow.keras.layers import Dense\n",
    "import matplotlib.pyplot as plt\n",
    "import seaborn as sns\n",
    "\n",
    "# Load the Breast Cancer dataset\n",
    "cancer = datasets.load_breast_cancer()\n",
    "X = cancer.data\n",
    "y = cancer.target\n",
    "\n",
    "# Split the data into train and test sets\n",
    "X_train, X_test, y_train, y_test = train_test_split(X, y, test_size=0.3, random_state=42)\n",
    "\n",
    "# Standardize the dataset\n",
    "scaler = StandardScaler()\n",
    "X_train = scaler.fit_transform(X_train)\n",
    "X_test = scaler.transform(X_test)\n",
    "\n",
    "# Logistic Regression Model\n",
    "log_reg = LogisticRegression(max_iter=10000)\n",
    "log_reg.fit(X_train, y_train)\n",
    "y_pred_log_reg = log_reg.predict(X_test)\n",
    "\n",
    "# Confusion Matrix and Classification Report for Logistic Regression\n",
    "print(\"Logistic Regression Classification Report:\\n\", classification_report(y_test, y_pred_log_reg))\n",
    "conf_matrix_log_reg = confusion_matrix(y_test, y_pred_log_reg)\n",
    "sns.heatmap(conf_matrix_log_reg, annot=True, fmt='d', cmap='Blues')\n",
    "plt.title(\"Logistic Regression Confusion Matrix\")\n",
    "plt.show()\n",
    "\n",
    "# Support Vector Machine Model\n",
    "svm_model = SVC(kernel='linear')\n",
    "svm_model.fit(X_train, y_train)\n",
    "y_pred_svm = svm_model.predict(X_test)\n",
    "\n",
    "# Confusion Matrix and Classification Report for SVM\n",
    "print(\"SVM Classification Report:\\n\", classification_report(y_test, y_pred_svm))\n",
    "conf_matrix_svm = confusion_matrix(y_test, y_pred_svm)\n",
    "sns.heatmap(conf_matrix_svm, annot=True, fmt='d', cmap='Blues')\n",
    "plt.title(\"SVM Confusion Matrix\")\n",
    "plt.show()\n",
    "\n",
    "# Simple Neural Network Model\n",
    "nn_model = Sequential()\n",
    "nn_model.add(Dense(64, input_dim=X_train.shape[1], activation='relu'))\n",
    "nn_model.add(Dense(64, activation='relu'))\n",
    "nn_model.add(Dense(1, activation='sigmoid'))\n",
    "\n",
    "nn_model.compile(loss='binary_crossentropy', optimizer='adam', metrics=['accuracy'])\n",
    "nn_model.fit(X_train, y_train, epochs=10, batch_size=10)\n",
    "\n",
    "# Predict with Neural Network\n",
    "y_pred_nn = (nn_model.predict(X_test) > 0.5).astype(\"int32\")\n",
    "\n",
    "# Confusion Matrix and Classification Report for Neural Network\n",
    "print(\"Neural Network Classification Report:\\n\", classification_report(y_test, y_pred_nn))\n",
    "conf_matrix_nn = confusion_matrix(y_test, y_pred_nn)\n",
    "sns.heatmap(conf_matrix_nn, annot=True, fmt='d', cmap='Blues')\n",
    "plt.title(\"Neural Network Confusion Matrix\")\n",
    "plt.show()\n"
   ]
  }
 ],
 "metadata": {
  "kernelspec": {
   "display_name": "base",
   "language": "python",
   "name": "python3"
  },
  "language_info": {
   "codemirror_mode": {
    "name": "ipython",
    "version": 3
   },
   "file_extension": ".py",
   "mimetype": "text/x-python",
   "name": "python",
   "nbconvert_exporter": "python",
   "pygments_lexer": "ipython3",
   "version": "3.9.7"
  }
 },
 "nbformat": 4,
 "nbformat_minor": 2
}
