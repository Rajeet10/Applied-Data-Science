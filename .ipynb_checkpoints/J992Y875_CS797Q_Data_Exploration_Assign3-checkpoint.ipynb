{
 "cells": [
  {
   "cell_type": "markdown",
   "metadata": {},
   "source": [
    "CS797Q: Assignment 3 # Data Exploration with Descriptive Statistics and Visualizations(100 Points)\n",
    "\n",
    "This exercise is for the data exploration and your task is to understand a data set based on the description, statistics, and from visualizations on Boston housing data. Please answer the questions provided at end of each task below(70).\n",
    "\n",
    "\n",
    "You will have to do similar Analysis on your selected Project dataset(30 points).\n"
   ]
  },
  {
   "cell_type": "markdown",
   "metadata": {},
   "source": [
    "## Data for this exercise\n",
    "\n",
    "We use the boston house price data in this exercise(**housing.csv**) https://www.kaggle.com/code/prasadperera/the-boston-housing-dataset/input. The description of the data is provided together with the actual data and should be the starting point for your analysis of the data. \n",
    "\n",
    "## Descriptive statistics of the boston data\n",
    "\n",
    "Explore the boston data using descriptive statistics. Calculate the central tendency with the mean and median, the variability through the standard deviation and the IQR, as well as the range of the data. The real task is understanding something about the data from these results. For example, what can you learn about the CRIM feature from the mean and the median?"
   ]
  },
  {
   "cell_type": "markdown",
   "metadata": {},
   "source": [
    "\n",
    "- Mean (3.479140): The average crime rate is relatively higher than the median and mode, suggesting that a few towns with significantly high crime rates are influencing the average.\n",
    "\n",
    "- Median (0.253715): The median is much lower than the mean, indicating that most towns have low crime rates. This disparity suggests a right-skewed distribution of crime rates.\n",
    "\n",
    "- Mode (0.253715): The most frequently occurring crime rate is very low, reinforcing the idea that many towns experience very low levels of crime.\n",
    "\n",
    "- Standard Deviation (8.570832): A high standard deviation indicates considerable variability in crime rates across different towns. This means that while some towns have low crime rates, others have very high rates.\n",
    "\n",
    "- IQR (2.725485): The interquartile range shows that the middle 50% of crime rates are spread out significantly, indicating that there is considerable variation among the central values.\n",
    "\n",
    "- Range (88.969880): The range is quite large, indicating a substantial difference between the town with the highest and lowest crime rates. This suggests that crime is not evenly distributed across towns."
   ]
  },
  {
   "cell_type": "markdown",
   "metadata": {},
   "source": [
    "## Visualizations\n",
    "\n",
    "The Python library ```matplotlib``` is great for creating all kinds of visualizations. There are even libraries on top of ```matplotlib``` that facilitate relatively complex visualizations in a single line of code like ```seaborn```. \n",
    "\n",
    "\n",
    "### Analyze single features of the boston data\n",
    "\n",
    "Visually analyze features ```zn``` and ```indus``` of the boston data. Use the techniques described class, i.e., histograms and density plots (with/without rugs). What can you learn about these features from these plots? What are the advantages and drawbacks of the different plots for this data?"
   ]
  },
  {
   "cell_type": "markdown",
   "metadata": {},
   "source": [
    "- ZN (Proportion of Residential Land Zoned)\n",
    "Histogram: You might see that ZN has many values concentrated at lower proportions, with a long tail towards higher values. This indicates that a significant number of areas are primarily residential, but there are a few areas with large zoned land.\n",
    "Density Plot: The density plot will likely confirm the histogram's insights, showing the same concentration and long tail, with a smooth curve.\n",
    "- INDUS (Proportion of Non-Retail Business Acres)\n",
    "Histogram: The histogram for INDUS may reveal a more uniform distribution across a wider range, indicating varied levels of non-retail business zoning in different towns.\n",
    "Density Plot: Similar to the histogram, the density plot may show several peaks if there are distinct groups of towns with similar industrial zoning proportions.\n",
    "- Advantages\n",
    " 1. It is often easier to see the distribution of the data. In the density plot, the bell-shape is clearer than in the histogram plot. Thus, it is easier to see that the data is mostly normal\n",
    "- Disadvntages\n",
    "  1. The smaller disadvantage is that y-axis is less meaningful. In the histogram, you can directly see the counts, i.e. how many instances in your data fall into a bin. The density plot shows a frequency that is somewhere between 0.0 and 1.0. This is more or less the fraction of the data, that is located at any specific point at the x-axis.\n",
    "  2. The histogram clearly shows the strange behavior of the data at the value 17.5(in our housing histogram and density plot). In the density plot, there is only a small peak that looks like there may be another normal distribution with less data and a higher mean value. This is misleading and hides what is actually happening in the data. This is always a risk with density plots and it cannot be avoided, due to the way density plots are created.Wit"
   ]
  },
  {
   "cell_type": "markdown",
   "metadata": {},
   "source": [
    "### Analyze the pair-wise relationships between the features of the boston data\n",
    "\n",
    "Next, analyze the pair-wise relationships between all fourteen features of the boston data. First, analyze their relationship through scatter plots. Then, create a heatmap of the correlations between the features. What did you learn about the data?"
   ]
  },
  {
   "cell_type": "markdown",
   "metadata": {},
   "source": [
    "After, plotting the scatter plot and the, creating the heatmap of correlation between all the fourteen features, we came to find the relation between the feature.\n",
    "The correlation value with price for each of the other 13 features are :\n",
    "- CRIM      -0.391363\n",
    "- ZN         0.373136\n",
    "- INDUS     -0.481772\n",
    "- CHAS       0.181391\n",
    "- NOX       -0.427321\n",
    "- RM         0.695360\n",
    "- AGE       -0.394656\n",
    "- DIS        0.249929\n",
    "- RAD       -0.381626\n",
    "- TAX       -0.468536\n",
    "- PTRATIO   -0.507787\n",
    "- B          0.333461\n",
    "- LSTAT     -0.735822\n",
    "- MEDV       1.000000\n",
    "\n",
    "All these doesn't contribute mostly in predicting the output/price(MEDV) of the house, so we chose only the feature having high correlataion absolute value i.e., more than 0.5\n",
    "\n",
    "The features are:\n",
    "- RM\t0.695360\n",
    "- PTRATIO\t-0.507787\n",
    "- LSTAT\t-0.735822\n",
    "- MEDV\t1.000000\n",
    "\n",
    "With Outlier removal, still the features with greater than 0.5 are:\n",
    "- RM\t0.689202\n",
    "- PTRATIO\t-0.446649\n",
    "- LSTAT\t-0.661402\n",
    "- MEDV\t1.000000\n",
    "\n",
    "Therfore, it can be concluded that RM,PTRATIO,LSTAT mostly contriubte in prediction price of house as they have higher correlation.\n",
    "Furthermore, with sns among these selected feature clear linearlity relations can be seen."
   ]
  },
  {
   "cell_type": "code",
   "execution_count": null,
   "metadata": {},
   "outputs": [],
   "source": []
  }
 ],
 "metadata": {
  "kernelspec": {
   "display_name": "Python 3 (ipykernel)",
   "language": "python",
   "name": "python3"
  },
  "language_info": {
   "codemirror_mode": {
    "name": "ipython",
    "version": 3
   },
   "file_extension": ".py",
   "mimetype": "text/x-python",
   "name": "python",
   "nbconvert_exporter": "python",
   "pygments_lexer": "ipython3",
   "version": "3.6.13"
  }
 },
 "nbformat": 4,
 "nbformat_minor": 2
}
